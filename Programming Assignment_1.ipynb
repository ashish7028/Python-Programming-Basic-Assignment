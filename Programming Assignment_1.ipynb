{
 "cells": [
  {
   "cell_type": "markdown",
   "id": "388ebabd",
   "metadata": {},
   "source": [
    "# 1. Write a Python program to print \"Hello Python\"?"
   ]
  },
  {
   "cell_type": "code",
   "execution_count": 2,
   "id": "ff51aab6",
   "metadata": {},
   "outputs": [
    {
     "name": "stdout",
     "output_type": "stream",
     "text": [
      "Hello Python\n"
     ]
    }
   ],
   "source": [
    "print(\"Hello Python\")"
   ]
  },
  {
   "cell_type": "markdown",
   "id": "962c4e74",
   "metadata": {},
   "source": [
    "# 2.\tWrite a Python program to do arithmetical operations addition and division.?\n"
   ]
  },
  {
   "cell_type": "code",
   "execution_count": 8,
   "id": "d8422a1a",
   "metadata": {},
   "outputs": [
    {
     "name": "stdout",
     "output_type": "stream",
     "text": [
      "enter num_1:5\n",
      "enter num_2:5\n",
      " addition of a+b is : 10\n",
      " division of a/b is : 1.0\n"
     ]
    }
   ],
   "source": [
    "a = int(input(\"enter num_1:\"))\n",
    "b = int(input(\"enter num_2:\"))\n",
    "\n",
    "print(\" addition of a+b is :\",  a+b )\n",
    "print(\" division of a/b is :\",  a/b )"
   ]
  },
  {
   "cell_type": "markdown",
   "id": "56e818ed",
   "metadata": {},
   "source": [
    "# 3.Write a Python program to find the area of a triangle?"
   ]
  },
  {
   "cell_type": "code",
   "execution_count": 13,
   "id": "56fe0ab8",
   "metadata": {},
   "outputs": [
    {
     "name": "stdout",
     "output_type": "stream",
     "text": [
      "Enter first side:8\n",
      "Enter second side:9\n",
      "Enter third side:10\n",
      "The area of the triangle is 34.20\n"
     ]
    }
   ],
   "source": [
    "a = float(input(\"Enter first side:\"))\n",
    "b = float(input(\"Enter second side:\"))\n",
    "c = float(input(\"Enter third side:\"))\n",
    "s = (a+b+c)/2\n",
    "\n",
    "area = (s*(s-a)*(s-b)*(s-c)) ** 0.5\n",
    "print('The area of the triangle is %0.2f' %area)"
   ]
  },
  {
   "cell_type": "markdown",
   "id": "c006a56f",
   "metadata": {},
   "source": [
    "# 4.Write a Python program to swap two variables?\n"
   ]
  },
  {
   "cell_type": "code",
   "execution_count": 14,
   "id": "b505d36d",
   "metadata": {},
   "outputs": [
    {
     "name": "stdout",
     "output_type": "stream",
     "text": [
      "enter num_1:5\n",
      "first number before swap: 5\n",
      "enter num_2:8\n",
      "second number before swap: 8\n",
      "first number after swap: 8\n",
      "second number after swap: 5\n"
     ]
    }
   ],
   "source": [
    "d = int(input(\"enter num_1:\"))\n",
    "print(\"first number before swap:\", d )\n",
    "e = int(input(\"enter num_2:\"))\n",
    "print(\"second number before swap:\", e )\n",
    "\n",
    "d , e  =  e, d \n",
    "\n",
    "print(\"first number after swap:\", d )\n",
    "print(\"second number after swap:\", e )"
   ]
  },
  {
   "cell_type": "markdown",
   "id": "71f46388",
   "metadata": {},
   "source": [
    "# 5.Write a Python program to generate a random number?"
   ]
  },
  {
   "cell_type": "code",
   "execution_count": 17,
   "id": "7b7e71d4",
   "metadata": {},
   "outputs": [
    {
     "name": "stdout",
     "output_type": "stream",
     "text": [
      "5\n"
     ]
    }
   ],
   "source": [
    "import random\n",
    "\n",
    "print(random.randint(0,9))"
   ]
  },
  {
   "cell_type": "code",
   "execution_count": null,
   "id": "bc1a0b2a",
   "metadata": {},
   "outputs": [],
   "source": []
  },
  {
   "cell_type": "code",
   "execution_count": null,
   "id": "68ab233a",
   "metadata": {},
   "outputs": [],
   "source": []
  }
 ],
 "metadata": {
  "kernelspec": {
   "display_name": "Python 3 (ipykernel)",
   "language": "python",
   "name": "python3"
  },
  "language_info": {
   "codemirror_mode": {
    "name": "ipython",
    "version": 3
   },
   "file_extension": ".py",
   "mimetype": "text/x-python",
   "name": "python",
   "nbconvert_exporter": "python",
   "pygments_lexer": "ipython3",
   "version": "3.9.7"
  }
 },
 "nbformat": 4,
 "nbformat_minor": 5
}

{
 "cells": [
  {
   "cell_type": "markdown",
   "metadata": {},
   "source": [
    "# 1. Write a Python program to convert kilometers to miles?"
   ]
  },
  {
   "cell_type": "code",
   "execution_count": 1,
   "metadata": {},
   "outputs": [
    {
     "name": "stdout",
     "output_type": "stream",
     "text": [
      "200km is equal to 124.27420000000001\n"
     ]
    }
   ],
   "source": [
    "def km_to_miles(km):\n",
    "    miles = km*0.621371\n",
    "    print(\"{}km is equal to {}\".format(km,miles))\n",
    "\n",
    "x = km_to_miles(200)"
   ]
  },
  {
   "cell_type": "markdown",
   "metadata": {},
   "source": [
    "# 2. Write a Python program to convert Celsius to Fahrenheit?"
   ]
  },
  {
   "cell_type": "code",
   "execution_count": 4,
   "metadata": {},
   "outputs": [
    {
     "name": "stdout",
     "output_type": "stream",
     "text": [
      "100celsius is equal to 212.0 fahrenheit\n"
     ]
    }
   ],
   "source": [
    "def cel_to_far(c):\n",
    "    f = (c * 9/5) + 32\n",
    "    print(\"{}celsius is equal to {} fahrenheit\".format(c,f))\n",
    "\n",
    "y = cel_to_far(100)"
   ]
  },
  {
   "cell_type": "markdown",
   "metadata": {},
   "source": [
    "# 3. Write a Python program to display calendar?"
   ]
  },
  {
   "cell_type": "code",
   "execution_count": 5,
   "metadata": {},
   "outputs": [
    {
     "name": "stdout",
     "output_type": "stream",
     "text": [
      "    January 2022\n",
      "Mo Tu We Th Fr Sa Su\n",
      "                1  2\n",
      " 3  4  5  6  7  8  9\n",
      "10 11 12 13 14 15 16\n",
      "17 18 19 20 21 22 23\n",
      "24 25 26 27 28 29 30\n",
      "31\n",
      "\n"
     ]
    }
   ],
   "source": [
    "\n",
    "import calendar\n",
    "def display_calender(year,month):\n",
    "    print(calendar.month(year,month))\n",
    "a = display_calender(2022,1)"
   ]
  },
  {
   "cell_type": "markdown",
   "metadata": {},
   "source": [
    "# 4. Write a Python program to solve quadratic equation?"
   ]
  },
  {
   "cell_type": "code",
   "execution_count": 6,
   "metadata": {},
   "outputs": [
    {
     "name": "stdout",
     "output_type": "stream",
     "text": [
      "Enter num_1: 2\n",
      "Enter num_2: 5\n",
      "Enter num_3: 2\n",
      "Quadratic Equation is: 2x^2+5x+2=0\n",
      "Two possible values of our quadratic equation are -0.5 and -2.0\n"
     ]
    }
   ],
   "source": [
    "# ax^2+bx+c=0\n",
    "a = int(input(\"Enter num_1: \"))\n",
    "b = int(input(\"Enter num_2: \"))\n",
    "c = int(input(\"Enter num_3: \"))\n",
    "\n",
    "print(\"Quadratic Equation is: {}x^2+{}x+{}=0\".format(a,b,c))\n",
    "\n",
    "if a==0:\n",
    "    print(\"a should not be equal to Zero\")\n",
    "else:\n",
    "    r = b**2 - 4*a*c\n",
    "    x1 = (((-b) + r**0.5)/(2*a))\n",
    "    x2 = (((-b) - r**0.5)/(2*a))\n",
    "    print(\"Two possible values of our quadratic equation are {} and {}\".format(x1,x2))"
   ]
  },
  {
   "cell_type": "markdown",
   "metadata": {},
   "source": [
    "# 5. Write a Python program to swap two variables without temp variable?"
   ]
  },
  {
   "cell_type": "code",
   "execution_count": 7,
   "metadata": {},
   "outputs": [
    {
     "name": "stdout",
     "output_type": "stream",
     "text": [
      "Enter variable_1: 5\n",
      "Enter variable_2: 4\n",
      "before swapping a = 5.0 and b = 4.0\n",
      "after swapping a = 4.0 and b = 5.0\n"
     ]
    }
   ],
   "source": [
    "a = float(input(\"Enter variable_1: \"))\n",
    "b = float(input(\"Enter variable_2: \"))\n",
    "\n",
    "print('before swapping a = {} and b = {}'.format(a,b))\n",
    "\n",
    "a,b = b,a\n",
    "\n",
    "print('after swapping a = {} and b = {}'.format(a,b))"
   ]
  },
  {
   "cell_type": "code",
   "execution_count": null,
   "metadata": {},
   "outputs": [],
   "source": []
  }
 ],
 "metadata": {
  "kernelspec": {
   "display_name": "Python 3 (ipykernel)",
   "language": "python",
   "name": "python3"
  },
  "language_info": {
   "codemirror_mode": {
    "name": "ipython",
    "version": 3
   },
   "file_extension": ".py",
   "mimetype": "text/x-python",
   "name": "python",
   "nbconvert_exporter": "python",
   "pygments_lexer": "ipython3",
   "version": "3.9.7"
  }
 },
 "nbformat": 4,
 "nbformat_minor": 4
}
